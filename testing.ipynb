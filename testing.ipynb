{
 "cells": [
  {
   "cell_type": "code",
   "execution_count": 3,
   "id": "862f7a41",
   "metadata": {},
   "outputs": [],
   "source": [
    "IMG_SIZE=(224, 224)"
   ]
  },
  {
   "cell_type": "code",
   "execution_count": 11,
   "id": "7eb1f456",
   "metadata": {},
   "outputs": [],
   "source": [
    "CLASS_LABEL={\n",
    "    0: \"Anger\",\n",
    "    1: \"Contempt\",\n",
    "    2: \"Disgust\",\n",
    "    3: \"Fear\",\n",
    "    4: \"Happy\",\n",
    "    5: \"Neutral\",\n",
    "    6: \"Sad\",\n",
    "    7: \"Surprised\"\n",
    "}"
   ]
  },
  {
   "cell_type": "code",
   "execution_count": 4,
   "id": "31d294d2",
   "metadata": {},
   "outputs": [],
   "source": [
    "import zipfile\n",
    "import pathlib\n",
    "import os\n",
    "from PIL import Image\n",
    "import random\n",
    "import torch\n",
    "from torch import nn\n",
    "from torchvision import transforms, datasets\n",
    "from torch.utils.data import DataLoader, Dataset"
   ]
  },
  {
   "cell_type": "code",
   "execution_count": 34,
   "id": "b5227bfc",
   "metadata": {},
   "outputs": [],
   "source": [
    "data_path=pathlib.Path(\"data/\")\n",
    "image_path=data_path/\"testing_ds1/images/\""
   ]
  },
  {
   "cell_type": "code",
   "execution_count": null,
   "id": "44052e86",
   "metadata": {},
   "outputs": [
    {
     "name": "stdout",
     "output_type": "stream",
     "text": [
      "data\\ProcessedEmotionDataset exists... skipping creation\n"
     ]
    }
   ],
   "source": [
    "if pathlib.Path(image_path).is_dir():\n",
    "    print(f\"{data_path/\"ProcessedEmotionDataset\"} exists... skipping creation\")\n",
    "else: \n",
    "    print(f\"{image_path} doesn't exits.. creating one. Please etract the zip file first\")"
   ]
  },
  {
   "cell_type": "code",
   "execution_count": 35,
   "id": "330ef6e6",
   "metadata": {},
   "outputs": [
    {
     "name": "stdout",
     "output_type": "stream",
     "text": [
      "data\\testing_ds1\\images has 19 directory and 0 files\n",
      "data\\testing_ds1\\images\\0 has 0 directory and 8 files\n",
      "data\\testing_ds1\\images\\1 has 0 directory and 8 files\n",
      "data\\testing_ds1\\images\\10 has 0 directory and 8 files\n",
      "data\\testing_ds1\\images\\11 has 0 directory and 8 files\n",
      "data\\testing_ds1\\images\\12 has 0 directory and 8 files\n",
      "data\\testing_ds1\\images\\13 has 0 directory and 8 files\n",
      "data\\testing_ds1\\images\\14 has 0 directory and 8 files\n",
      "data\\testing_ds1\\images\\15 has 0 directory and 8 files\n",
      "data\\testing_ds1\\images\\16 has 0 directory and 8 files\n",
      "data\\testing_ds1\\images\\17 has 0 directory and 8 files\n",
      "data\\testing_ds1\\images\\18 has 0 directory and 8 files\n",
      "data\\testing_ds1\\images\\2 has 0 directory and 8 files\n",
      "data\\testing_ds1\\images\\3 has 0 directory and 8 files\n",
      "data\\testing_ds1\\images\\4 has 0 directory and 8 files\n",
      "data\\testing_ds1\\images\\5 has 0 directory and 8 files\n",
      "data\\testing_ds1\\images\\6 has 0 directory and 8 files\n",
      "data\\testing_ds1\\images\\7 has 0 directory and 8 files\n",
      "data\\testing_ds1\\images\\8 has 0 directory and 8 files\n",
      "data\\testing_ds1\\images\\9 has 0 directory and 8 files\n"
     ]
    }
   ],
   "source": [
    "def data_folder_info(dir_path):\n",
    "    for dirpath, dirname, filename in os.walk(dir_path):\n",
    "        print(f\"{dirpath} has {len(dirname)} directory and {len(filename)} files\")\n",
    "data_folder_info(image_path)"
   ]
  },
  {
   "cell_type": "code",
   "execution_count": 36,
   "id": "3e1d17af",
   "metadata": {},
   "outputs": [
    {
     "name": "stdout",
     "output_type": "stream",
     "text": [
      "Total 152 images found in data\\testing_ds1\\images\n"
     ]
    }
   ],
   "source": [
    "image_list=list(image_path.glob(\"**/*.[pj]*g\"))\n",
    "print(f\"Total {len(image_list)} images found in {image_path}\")"
   ]
  },
  {
   "cell_type": "code",
   "execution_count": 37,
   "id": "f367a892",
   "metadata": {},
   "outputs": [
    {
     "name": "stdout",
     "output_type": "stream",
     "text": [
      "Image class: 1\n",
      "Image width: 2448, height: 3264, format: JPEG\n",
      "Image size: (2448, 3264), mode: RGB\n"
     ]
    }
   ],
   "source": [
    "img_random=image_list[random.choice(range(len(image_list)))]\n",
    "img=Image.open(img_random)\n",
    "img_class=img_random.parent.stem\n",
    "print(f\"Image class: {img_class}\")\n",
    "print(f\"Image width: {img.width}, height: {img.height}, format: {img.format}\")\n",
    "print(f\"Image size: {img.size}, mode: {img.mode}\")"
   ]
  },
  {
   "cell_type": "code",
   "execution_count": 26,
   "id": "c55eb896",
   "metadata": {},
   "outputs": [
    {
     "name": "stdout",
     "output_type": "stream",
     "text": [
      "Labels found: {'Anger': 0, 'Contempt': 1, 'Disgust': 2, 'Fear': 3, 'Happy': 4, 'Neutral': 5, 'Sad': 6, 'Surprised': 7}\n",
      "Total samples: 152\n",
      "Dataset size: 152\n",
      "torch.Size([32, 3, 224, 224]) tensor([0, 1, 2, 3, 4, 5, 6, 7, 0, 1, 2, 3, 4, 5, 6, 7, 0, 1, 2, 3, 4, 5, 6, 7,\n",
      "        0, 1, 2, 3, 4, 5, 6, 7])\n"
     ]
    }
   ],
   "source": [
    "class EmotionDataset(Dataset):\n",
    "    def __init__(self, root_dir, transform=None):\n",
    "        self.root_dir = root_dir\n",
    "        self.transform = transform\n",
    "        self.samples = []\n",
    "        self.label2idx = {}\n",
    "\n",
    "        for subdir in sorted(os.listdir(root_dir)):\n",
    "            subpath = os.path.join(root_dir, subdir)\n",
    "            if os.path.isdir(subpath):\n",
    "                for fname in os.listdir(subpath):\n",
    "                    if fname.lower().endswith((\".jpg\", \".jpeg\", \".png\")):\n",
    "                        label_name = os.path.splitext(fname)[0].strip()\n",
    "                        if label_name not in self.label2idx:\n",
    "                            self.label2idx[label_name] = len(self.label2idx)\n",
    "                        label = self.label2idx[label_name]\n",
    "                        self.samples.append((os.path.join(subpath, fname), label))\n",
    "\n",
    "        print(\"Labels found:\", self.label2idx)\n",
    "        print(\"Total samples:\", len(self.samples))\n",
    "\n",
    "    def __len__(self):\n",
    "        return len(self.samples)\n",
    "\n",
    "    def __getitem__(self, idx):\n",
    "        img_path, label = self.samples[idx]\n",
    "        image = Image.open(img_path).convert(\"RGB\")\n",
    "        if self.transform:\n",
    "            image = self.transform(image)\n",
    "        return image, label\n",
    "\n",
    "\n",
    "# Example usage\n",
    "data_transforms = transforms.Compose([\n",
    "    transforms.Resize(IMG_SIZE),\n",
    "    transforms.ToTensor(),\n",
    "    transforms.Normalize(0.5, 0.5),\n",
    " ])\n",
    "\n",
    "dataset = EmotionDataset(image_path, transform=data_transforms)\n",
    "dataloader = DataLoader(dataset, batch_size=32, shuffle=False)\n",
    "\n",
    "print(\"Dataset size:\", len(dataset))\n",
    "for images, labels in dataloader:\n",
    "    print(images.size(), labels)\n",
    "    break"
   ]
  },
  {
   "cell_type": "code",
   "execution_count": 21,
   "id": "4965c656",
   "metadata": {},
   "outputs": [
    {
     "name": "stderr",
     "output_type": "stream",
     "text": [
      "c:\\Users\\admin\\.conda\\envs\\env\\Lib\\site-packages\\torchvision\\models\\_utils.py:208: UserWarning: The parameter 'pretrained' is deprecated since 0.13 and may be removed in the future, please use 'weights' instead.\n",
      "  warnings.warn(\n",
      "c:\\Users\\admin\\.conda\\envs\\env\\Lib\\site-packages\\torchvision\\models\\_utils.py:223: UserWarning: Arguments other than a weight enum or `None` for 'weights' are deprecated since 0.13 and may be removed in the future. The current behavior is equivalent to passing `weights=None`.\n",
      "  warnings.warn(msg)\n"
     ]
    }
   ],
   "source": [
    "import torchvision.models as models\n",
    "\n",
    "def get_resnet34(num_classes=len(CLASS_LABEL), in_channels=3, pretrained=True):\n",
    "    # Load pretrained ResNet34\n",
    "    model = models.resnet34(pretrained=pretrained)\n",
    "\n",
    "    # Modify the first conv layer to accept 1 channel instead of 3\n",
    "    if in_channels == 1:\n",
    "        # Old conv1 expects 3 channels: [64, 3, 7, 7]\n",
    "        weight = model.conv1.weight.data\n",
    "        model.conv1 = nn.Conv2d(\n",
    "            in_channels, 64, kernel_size=7, stride=2, padding=3, bias=False\n",
    "        )\n",
    "        # Initialize with mean of pretrained weights\n",
    "        model.conv1.weight.data = weight.mean(dim=1, keepdim=True)\n",
    "\n",
    "    # Modify the fully connected layer for your number of classes\n",
    "    model.fc = nn.Linear(model.fc.in_features, num_classes)\n",
    "\n",
    "    return model\n",
    "\n",
    "model = get_resnet34(num_classes=len(CLASS_LABEL), in_channels=3, pretrained=False)\n"
   ]
  },
  {
   "cell_type": "code",
   "execution_count": 22,
   "id": "26e2ccb8",
   "metadata": {},
   "outputs": [
    {
     "data": {
      "text/plain": [
       "<All keys matched successfully>"
      ]
     },
     "execution_count": 22,
     "metadata": {},
     "output_type": "execute_result"
    }
   ],
   "source": [
    "checkpoint = torch.load('./res224colored_transfer_b2_best_20250903_092840.pth', weights_only=False)\n",
    "model.load_state_dict(checkpoint['model_state'])"
   ]
  },
  {
   "cell_type": "code",
   "execution_count": 23,
   "id": "c4062f08",
   "metadata": {},
   "outputs": [],
   "source": [
    "from sklearn.metrics import classification_report, confusion_matrix\n",
    "import numpy as np\n",
    "\n",
    "def evaluate_model(model: torch.nn.Module,\n",
    "                   dataloader: torch.utils.data.DataLoader,\n",
    "                   class_names: list,\n",
    "                   device: str = \"cuda\" if torch.cuda.is_available() else \"cpu\"):\n",
    "    model.eval()\n",
    "    model.to(device)\n",
    "\n",
    "    all_preds = []\n",
    "    all_labels = []\n",
    "\n",
    "    with torch.no_grad():\n",
    "        for X, y in dataloader:\n",
    "            X, y = X.to(device), y.to(device)\n",
    "\n",
    "            outputs = model(X)\n",
    "            _, preds = torch.max(outputs, 1)\n",
    "\n",
    "            all_preds.extend(preds.cpu().numpy())\n",
    "            all_labels.extend(y.cpu().numpy())\n",
    "\n",
    "    # Convert to numpy arrays\n",
    "    all_preds = np.array(all_preds)\n",
    "    all_labels = np.array(all_labels)\n",
    "\n",
    "    # Classification report (precision, recall, f1 for each class)\n",
    "    report = classification_report(all_labels, all_preds, target_names=class_names, digits=4)\n",
    "\n",
    "    # Confusion matrix\n",
    "    cm = confusion_matrix(all_labels, all_preds)\n",
    "\n",
    "    return report, cm"
   ]
  },
  {
   "cell_type": "code",
   "execution_count": 24,
   "id": "c1c05fda",
   "metadata": {},
   "outputs": [],
   "source": [
    "import matplotlib.pyplot as plt\n",
    "import seaborn as sns  # makes heatmap nicer\n",
    "\n",
    "def plot_confusion_matrix(cm, class_names):\n",
    "    plt.figure(figsize=(10, 8))\n",
    "    sns.heatmap(cm, annot=True, fmt=\"d\", cmap=\"Blues\", \n",
    "                xticklabels=class_names, \n",
    "                yticklabels=class_names)\n",
    "    plt.xlabel(\"Predicted\")\n",
    "    plt.ylabel(\"True\")\n",
    "    plt.title(\"Confusion Matrix\")\n",
    "    plt.show()\n"
   ]
  },
  {
   "cell_type": "code",
   "execution_count": 27,
   "id": "1962f6a7",
   "metadata": {},
   "outputs": [
    {
     "name": "stdout",
     "output_type": "stream",
     "text": [
      "Classification Report:\n",
      "               precision    recall  f1-score   support\n",
      "\n",
      "       Anger     0.4444    0.4211    0.4324        19\n",
      "    Contempt     0.3750    0.1579    0.2222        19\n",
      "     Disgust     0.3600    0.4737    0.4091        19\n",
      "        Fear     0.5455    0.3158    0.4000        19\n",
      "       Happy     0.6190    0.6842    0.6500        19\n",
      "     Neutral     0.3529    0.6316    0.4528        19\n",
      "         Sad     0.3571    0.2632    0.3030        19\n",
      "   Surprised     0.4762    0.5263    0.5000        19\n",
      "\n",
      "    accuracy                         0.4342       152\n",
      "   macro avg     0.4413    0.4342    0.4212       152\n",
      "weighted avg     0.4413    0.4342    0.4212       152\n",
      "\n"
     ]
    },
    {
     "data": {
      "image/png": "[encoded data removed]",
      "text/plain": [
       "<Figure size 1000x800 with 2 Axes>"
      ]
     },
     "metadata": {},
     "output_type": "display_data"
    }
   ],
   "source": [
    "report, cm = evaluate_model(model, dataloader, class_names=list(CLASS_LABEL.values()))\n",
    "\n",
    "print(\"Classification Report:\\n\", report)\n",
    "plot_confusion_matrix(cm, list(CLASS_LABEL.values()))\n"
   ]
  },
  {
   "cell_type": "code",
   "execution_count": 6,
   "id": "2accf45f",
   "metadata": {},
   "outputs": [],
   "source": [
    "data_path=pathlib.Path(\"data/\")\n",
    "image_path=data_path/\"testing_ds2\""
   ]
  },
  {
   "cell_type": "code",
   "execution_count": 29,
   "id": "eee14440",
   "metadata": {},
   "outputs": [
    {
     "name": "stdout",
     "output_type": "stream",
     "text": [
      "data\\testing_ds2 exists... skipping creation\n",
      "data\\testing_ds2 is not empty, skipping unzipping\n"
     ]
    }
   ],
   "source": [
    "if pathlib.Path(image_path).is_dir():\n",
    "    print(f\"{image_path} exists... skipping creation\")\n",
    "else: \n",
    "    print(f\"{image_path} doesn't exits.. creating one\")\n",
    "    pathlib.Path(image_path).mkdir(parents=True, exist_ok=True)\n",
    "\n",
    "if len(os.listdir(image_path)) == 0:\n",
    "    if data_path.exists():\n",
    "        with zipfile.ZipFile(data_path / \"testing_ds2.zip\", \"r\") as zip_asset:\n",
    "            print(\"Unzipping data...\")\n",
    "            zip_asset.extractall(data_path)\n",
    "            print(\"Done!\")\n",
    "    else:\n",
    "        print(f\"\"\"{data_path / 'testing_ds2.zip'} does not exist, please check the path or download it\"\"\")\n",
    "else:\n",
    "    print(f\"{str(image_path)} is not empty, skipping unzipping\")"
   ]
  },
  {
   "cell_type": "code",
   "execution_count": null,
   "id": "0ed7033e",
   "metadata": {},
   "outputs": [
    {
     "name": "stdout",
     "output_type": "stream",
     "text": [
      "data\\testing_ds2 has 2 directory and 1 files\n",
      "data\\testing_ds2\\test has 8 directory and 0 files\n",
      "data\\testing_ds2\\test\\angry has 0 directory and 5 files\n",
      "data\\testing_ds2\\test\\Contempt has 0 directory and 5 files\n",
      "data\\testing_ds2\\test\\disgust has 0 directory and 5 files\n",
      "data\\testing_ds2\\test\\fear has 0 directory and 5 files\n",
      "data\\testing_ds2\\test\\happy has 0 directory and 5 files\n",
      "data\\testing_ds2\\test\\neutral has 0 directory and 5 files\n",
      "data\\testing_ds2\\test\\sad has 0 directory and 5 files\n",
      "data\\testing_ds2\\test\\surprised has 0 directory and 5 files\n",
      "data\\testing_ds2\\train has 8 directory and 0 files\n",
      "data\\testing_ds2\\train\\angry has 0 directory and 14 files\n",
      "data\\testing_ds2\\train\\Contempt has 0 directory and 14 files\n",
      "data\\testing_ds2\\train\\disgust has 0 directory and 14 files\n",
      "data\\testing_ds2\\train\\fear has 0 directory and 14 files\n",
      "data\\testing_ds2\\train\\happy has 0 directory and 14 files\n",
      "data\\testing_ds2\\train\\neutral has 0 directory and 14 files\n",
      "data\\testing_ds2\\train\\sad has 0 directory and 14 files\n",
      "data\\testing_ds2\\train\\surprised has 0 directory and 14 files\n"
     ]
    }
   ],
   "source": [
    "data_folder_info(image_path)"
   ]
  },
  {
   "cell_type": "code",
   "execution_count": 31,
   "id": "287c0481",
   "metadata": {},
   "outputs": [
    {
     "name": "stdout",
     "output_type": "stream",
     "text": [
      "Total 152 images found in data\\testing_ds2\n"
     ]
    }
   ],
   "source": [
    "image_list=list(image_path.glob(\"**/*.[pj]*g\"))\n",
    "print(f\"Total {len(image_list)} images found in {image_path}\")"
   ]
  },
  {
   "cell_type": "code",
   "execution_count": 8,
   "id": "250cfdcf",
   "metadata": {},
   "outputs": [
    {
     "name": "stdout",
     "output_type": "stream",
     "text": [
      "data\\testing_ds2 exists... skipping creation\n",
      "0: \"angry\",\n",
      "1: \"Contempt\",\n",
      "2: \"disgust\",\n",
      "3: \"fear\",\n",
      "4: \"happy\",\n",
      "5: \"neutral\",\n",
      "6: \"sad\",\n",
      "7: \"surprised\",\n"
     ]
    }
   ],
   "source": [
    "if data_path.is_dir():\n",
    "    data_path.mkdir(parents=True, exist_ok=True)\n",
    "if image_path.is_dir():\n",
    "    print(f\"{image_path} exists... skipping creation\")\n",
    "else: \n",
    "    print(f\"{image_path} doesn't exits.. creating one\")\n",
    "    image_path.mkdir(parents=True, exist_ok=True)\n",
    "\n",
    "def class_info(dir_path):\n",
    "    class_dirs = [d for d in os.listdir(dir_path) if os.path.isdir(os.path.join(dir_path, d))]\n",
    "    for idx, class_name in enumerate(class_dirs):\n",
    "        print(f'{idx}: \"{class_name}\",')\n",
    "\n",
    "class_info(image_path/\"train\")"
   ]
  },
  {
   "cell_type": "code",
   "execution_count": 20,
   "id": "b11f0340",
   "metadata": {},
   "outputs": [],
   "source": [
    "CLASS_LABEL={\n",
    "    0: \"angry\",\n",
    "    1: \"Contempt\",\n",
    "    2: \"disgust\",\n",
    "    3: \"fear\",\n",
    "    4: \"happy\",\n",
    "    5: \"neutral\",\n",
    "    6: \"sad\",\n",
    "    7: \"surprised\"\n",
    "}"
   ]
  },
  {
   "cell_type": "code",
   "execution_count": 11,
   "id": "b53805d4",
   "metadata": {},
   "outputs": [],
   "source": [
    "TEST_BATCH_SIZE=32\n",
    "IMG_SIZE=(224, 224)"
   ]
  },
  {
   "cell_type": "code",
   "execution_count": 12,
   "id": "cd905cc9",
   "metadata": {},
   "outputs": [],
   "source": [
    "data_transforms = transforms.Compose([\n",
    "    transforms.Resize(IMG_SIZE),\n",
    "    transforms.ToTensor(),\n",
    "    transforms.Normalize(0.5, 0.5),\n",
    "    ])"
   ]
  },
  {
   "cell_type": "code",
   "execution_count": 16,
   "id": "db32a0a1",
   "metadata": {},
   "outputs": [],
   "source": [
    "dataset2= datasets.ImageFolder(\n",
    "    root=image_path/\"train\",\n",
    "    transform=data_transforms,\n",
    "    target_transform=None\n",
    ")   "
   ]
  },
  {
   "cell_type": "code",
   "execution_count": 26,
   "id": "627290a4",
   "metadata": {},
   "outputs": [],
   "source": [
    "test_loader2 = DataLoader(dataset2, batch_size=TEST_BATCH_SIZE, shuffle=False)"
   ]
  },
  {
   "cell_type": "code",
   "execution_count": 27,
   "id": "f2e5d6df",
   "metadata": {},
   "outputs": [
    {
     "name": "stdout",
     "output_type": "stream",
     "text": [
      "Classification Report:\n",
      "               precision    recall  f1-score   support\n",
      "\n",
      "       angry     0.0909    0.0714    0.0800        14\n",
      "    Contempt     0.0000    0.0000    0.0000        14\n",
      "     disgust     0.3158    0.4286    0.3636        14\n",
      "        fear     0.4444    0.2857    0.3478        14\n",
      "       happy     0.5556    0.7143    0.6250        14\n",
      "     neutral     0.3462    0.6429    0.4500        14\n",
      "         sad     0.4000    0.2857    0.3333        14\n",
      "   surprised     0.4615    0.4286    0.4444        14\n",
      "\n",
      "    accuracy                         0.3571       112\n",
      "   macro avg     0.3268    0.3571    0.3305       112\n",
      "weighted avg     0.3268    0.3571    0.3305       112\n",
      "\n"
     ]
    },
    {
     "data": {
      "image/png": "[encoded data removed]",
      "text/plain": [
       "<Figure size 1000x800 with 2 Axes>"
      ]
     },
     "metadata": {},
     "output_type": "display_data"
    }
   ],
   "source": [
    "report, cm = evaluate_model(model, test_loader2, class_names=list(CLASS_LABEL.values()))\n",
    "\n",
    "print(\"Classification Report:\\n\", report)\n",
    "plot_confusion_matrix(cm, list(CLASS_LABEL.values()))"
   ]
  }
 ],
 "metadata": {
  "kernelspec": {
   "display_name": "env",
   "language": "python",
   "name": "python3"
  },
  "language_info": {
   "codemirror_mode": {
    "name": "ipython",
    "version": 3
   },
   "file_extension": ".py",
   "mimetype": "text/x-python",
   "name": "python",
   "nbconvert_exporter": "python",
   "pygments_lexer": "ipython3",
   "version": "3.12.4"
  }
 },
 "nbformat": 4,
 "nbformat_minor": 5
}
